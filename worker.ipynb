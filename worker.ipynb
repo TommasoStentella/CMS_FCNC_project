{
 "cells": [
  {
   "cell_type": "code",
   "execution_count": 1,
   "id": "1b9e6411",
   "metadata": {},
   "outputs": [
    {
     "name": "stdout",
     "output_type": "stream",
     "text": [
      "Welcome to JupyROOT 6.24/00\n"
     ]
    }
   ],
   "source": [
    "import ROOT\n",
    "import ROOT.ROOT as rr\n",
    "\n",
    "import uproot\n",
    "import numpy as np\n",
    "import pandas as pd\n",
    "import os\n",
    "from pathlib import Path\n",
    "import awkward as ak\n",
    "\n",
    "import random\n",
    "\n",
    "import FilterFunctions as ff\n",
    "import cpp"
   ]
  },
  {
   "cell_type": "markdown",
   "id": "86750d49",
   "metadata": {},
   "source": [
    "### Implementation of the skimming step of the analysis\n",
    "\n",
    "The skimming step reduces the inital generic samples to a dataset optimized for this specific analysis. Most important, the skimming removes all events from the initial dataset, which are not of interest for our study."
   ]
  },
  {
   "cell_type": "code",
   "execution_count": 2,
   "id": "33b0a069",
   "metadata": {},
   "outputs": [],
   "source": [
    "dirBasePath  = '/data/FCNC/'\n",
    "dirOutPath = '/data/Skim/'\n",
    "dirPlotPath = './Plots/'\n",
    "\n",
    "listDir = os.listdir(dirBasePath)"
   ]
  },
  {
   "cell_type": "code",
   "execution_count": 3,
   "id": "59c4bf09",
   "metadata": {},
   "outputs": [],
   "source": [
    "def returnDir(string):\n",
    "    return [filename for filename in listDir if filename.startswith(string)]\n",
    "\n",
    "def loadData(chain, pathDirs, info=False):\n",
    "    # Set up multi-threading capability of ROOT\n",
    "    rr.EnableImplicitMT()\n",
    "    \n",
    "    for Dir in pathDirs:\n",
    "        if info: print('>>> Process directory ', Dir)\n",
    "        file_list = os.listdir(dirBasePath + Dir)\n",
    "        for file in file_list:\n",
    "            chain.AddFile(dirBasePath + Dir + '/' + file)\n",
    "            \n",
    "    return chain\n",
    "\n",
    "def CountEvents(df):\n",
    "    n = df.Count().GetValue()\n",
    "    print('\\nNumber of events:', n, '\\n')"
   ]
  },
  {
   "cell_type": "markdown",
   "id": "c28f1049",
   "metadata": {},
   "source": [
    "#### List of all MC background directories\n",
    "\n",
    "'DYJetsToLL_M', 'QCD', 'ST_s', 'ST_t', 'ST_tW_antitop', 'ST_tW_top', 'TTTT_Tune', 'TTTo2L2Nu', 'TTToHadronic',\n",
    "'TTToSemiLeptonic', 'TTWJetsToLNu', 'TTZToLLNuNu', 'WGToLNuG', 'WJetsToLNu', 'WWTo2L2Nu', 'WWW', 'WWZ', 'WZG',\n",
    "'WZTo1L1Nu2Q', 'WZTo2L2Q', 'WZTo3LNu', 'WZZ', 'WmWmJJ', 'WminusH', 'WpWpJJ', 'ZG', 'ZZ', 'tZq'"
   ]
  },
  {
   "cell_type": "code",
   "execution_count": 4,
   "id": "3d2c96f9",
   "metadata": {},
   "outputs": [],
   "source": [
    "# - Data + MC Signal\n",
    "signalDirs = returnDir('SingleMuon')\n",
    "signalMCDirs = returnDir('TT_FCNC')\n",
    "\n",
    "# - MC backgrounds\n",
    "listBkgDir = ['ST_', 'TTTT_Tune', 'TTTo2L2Nu', 'TTToHadronic', 'TTToSemiLeptonic', 'TTWJetsToLNu', 'TTZToLLNuNu',\n",
    "              'WGToLNuG', 'WJetsToLNu', 'WWTo2L2Nu', 'WWW', 'WWZ', 'WZG', 'WZTo1L1Nu2Q', 'WZTo2L2Q', 'WZTo3LNu',\n",
    "              'WZZ', 'WmWmJJ', 'WminusH', 'WpWpJJ', 'ZG', 'ZZ', 'tZq', 'DYJetsToLL_M', 'QCD']\n",
    "\n",
    "bkgMCDirs = dict(list(zip(listBkgDir, map(returnDir, listBkgDir))))\n",
    "bkgMCChain = dict(list(zip(listBkgDir, [ROOT.TChain('Events') for _ in range(len(listBkgDir))])))"
   ]
  },
  {
   "cell_type": "code",
   "execution_count": 5,
   "id": "57eb03dc",
   "metadata": {
    "scrolled": true
   },
   "outputs": [],
   "source": [
    "# - Load Data + MC Signal\n",
    "\n",
    "chainSig = ROOT.TChain('Events')\n",
    "dfData = rr.RDataFrame(loadData(chainSig, signalDirs))\n",
    "# CountEvents(dfData)\n",
    "\n",
    "chainMC = ROOT.TChain('Events')\n",
    "dfMCSig = rr.RDataFrame(loadData(chainMC, signalMCDirs))\n",
    "# CountEvents(dfMCSig)"
   ]
  },
  {
   "cell_type": "code",
   "execution_count": 6,
   "id": "7c5a62d9",
   "metadata": {
    "scrolled": true
   },
   "outputs": [],
   "source": [
    "# -Load MC backgrounds\n",
    "\n",
    "dfMCBkg = {}\n",
    "for key, value in bkgMCDirs.items():\n",
    "    dfMCBkg[key] = rr.RDataFrame(loadData(bkgMCChain[key], value))\n",
    "#     CountEvents(dfMCBkg[key])"
   ]
  },
  {
   "cell_type": "markdown",
   "id": "99deb48e",
   "metadata": {},
   "source": [
    "### Read skimmed file"
   ]
  },
  {
   "cell_type": "code",
   "execution_count": 8,
   "id": "c5573d09",
   "metadata": {},
   "outputs": [],
   "source": [
    "%%bash\n",
    "\n",
    "rm /data/Skim/DataFlat1.root"
   ]
  },
  {
   "cell_type": "code",
   "execution_count": 9,
   "id": "93a0c0ff",
   "metadata": {},
   "outputs": [
    {
     "name": "stdout",
     "output_type": "stream",
     "text": [
      "DataFlat2.root\n",
      "DataFlat3.root\n",
      "DataFlat4.root\n"
     ]
    }
   ],
   "source": [
    "%%bash\n",
    "\n",
    "ls /data/Skim"
   ]
  },
  {
   "cell_type": "code",
   "execution_count": 10,
   "id": "e2b9c611",
   "metadata": {
    "scrolled": true
   },
   "outputs": [
    {
     "data": {
      "text/plain": [
       "<cppyy.gbl.ROOT.RDF.RInterface<ROOT::Detail::RDF::RJittedFilter,void> object at 0x55c121adbe10>"
      ]
     },
     "execution_count": 10,
     "metadata": {},
     "output_type": "execute_result"
    }
   ],
   "source": [
    "ff.DeclareVariables1(dfData, 'Data', save=True)"
   ]
  },
  {
   "cell_type": "code",
   "execution_count": 11,
   "id": "9a675500",
   "metadata": {
    "scrolled": false
   },
   "outputs": [],
   "source": [
    "file = uproot.open(dirOutPath + 'DataFlat1.root')\n",
    "tree = file['Events']\n",
    "# tree.keys()\n",
    "df = tree.arrays(['nBJet', 'nBJ'], library='pd')\n",
    "#max(df.inv_m)\n",
    "# df[df.lep_q0 == 0]['lep_charge']\n",
    "# df.loc[(df['inv_m'] < 15) & (df['inv_m02'] < 15) & (df['inv_m12'] < 15)]"
   ]
  },
  {
   "cell_type": "code",
   "execution_count": 15,
   "id": "6365d845",
   "metadata": {},
   "outputs": [
    {
     "data": {
      "text/html": [
       "<div>\n",
       "<style scoped>\n",
       "    .dataframe tbody tr th:only-of-type {\n",
       "        vertical-align: middle;\n",
       "    }\n",
       "\n",
       "    .dataframe tbody tr th {\n",
       "        vertical-align: top;\n",
       "    }\n",
       "\n",
       "    .dataframe thead th {\n",
       "        text-align: right;\n",
       "    }\n",
       "</style>\n",
       "<table border=\"1\" class=\"dataframe\">\n",
       "  <thead>\n",
       "    <tr style=\"text-align: right;\">\n",
       "      <th></th>\n",
       "      <th>nBJet</th>\n",
       "      <th>nBJ</th>\n",
       "    </tr>\n",
       "  </thead>\n",
       "  <tbody>\n",
       "    <tr>\n",
       "      <th>0</th>\n",
       "      <td>1</td>\n",
       "      <td>1</td>\n",
       "    </tr>\n",
       "    <tr>\n",
       "      <th>2</th>\n",
       "      <td>1</td>\n",
       "      <td>1</td>\n",
       "    </tr>\n",
       "    <tr>\n",
       "      <th>3</th>\n",
       "      <td>1</td>\n",
       "      <td>1</td>\n",
       "    </tr>\n",
       "    <tr>\n",
       "      <th>4</th>\n",
       "      <td>1</td>\n",
       "      <td>1</td>\n",
       "    </tr>\n",
       "    <tr>\n",
       "      <th>5</th>\n",
       "      <td>1</td>\n",
       "      <td>1</td>\n",
       "    </tr>\n",
       "    <tr>\n",
       "      <th>...</th>\n",
       "      <td>...</td>\n",
       "      <td>...</td>\n",
       "    </tr>\n",
       "    <tr>\n",
       "      <th>1372</th>\n",
       "      <td>1</td>\n",
       "      <td>1</td>\n",
       "    </tr>\n",
       "    <tr>\n",
       "      <th>1373</th>\n",
       "      <td>1</td>\n",
       "      <td>1</td>\n",
       "    </tr>\n",
       "    <tr>\n",
       "      <th>1374</th>\n",
       "      <td>1</td>\n",
       "      <td>1</td>\n",
       "    </tr>\n",
       "    <tr>\n",
       "      <th>1375</th>\n",
       "      <td>1</td>\n",
       "      <td>1</td>\n",
       "    </tr>\n",
       "    <tr>\n",
       "      <th>1377</th>\n",
       "      <td>1</td>\n",
       "      <td>1</td>\n",
       "    </tr>\n",
       "  </tbody>\n",
       "</table>\n",
       "<p>927 rows × 2 columns</p>\n",
       "</div>"
      ],
      "text/plain": [
       "      nBJet  nBJ\n",
       "0         1    1\n",
       "2         1    1\n",
       "3         1    1\n",
       "4         1    1\n",
       "5         1    1\n",
       "...     ...  ...\n",
       "1372      1    1\n",
       "1373      1    1\n",
       "1374      1    1\n",
       "1375      1    1\n",
       "1377      1    1\n",
       "\n",
       "[927 rows x 2 columns]"
      ]
     },
     "execution_count": 15,
     "metadata": {},
     "output_type": "execute_result"
    }
   ],
   "source": [
    "df[df['nBJet']==df['nBJ']]"
   ]
  },
  {
   "cell_type": "markdown",
   "id": "50b85896",
   "metadata": {},
   "source": [
    "### Histograms: save in `.root` extension"
   ]
  },
  {
   "cell_type": "code",
   "execution_count": 10,
   "id": "603d874b",
   "metadata": {},
   "outputs": [],
   "source": [
    "ROOT.gROOT.SetBatch(True)\n",
    "\n",
    "################################################################################\n",
    "# Declare the range of the histogram for each variable\n",
    "#\n",
    "# Each entry in the dictionary contains of the variable name as key and a tuple\n",
    "# specifying the histogram layout as value. The tuple sets the number of bins,\n",
    "# the lower edge and the upper edge of the histogram.\n",
    "################################################################################\n",
    "\n",
    "default_nbins = 30\n",
    "ranges = {\n",
    "#         'Electron_pt15': (default_nbins, 15, 200),\n",
    "        'mu_pt0': (default_nbins, 15, 200),\n",
    "        'mu_pt1': (default_nbins, 15, 200),\n",
    "        'inv_m': (20, 15, 500)\n",
    "#         'Electron_eta': (default_nbins, -5, 5),\n",
    "#         'Muon_eta': (default_nbins, -5, 5),\n",
    "#         'Jet_pt': (default_nbins, 10, 500),\n",
    "#         'Jet_eta': (default_nbins, -5, 5),\n",
    "        }\n",
    "\n",
    "# Book a histogram for a specific variable\n",
    "def bookHistogram(df, variable, range_):\n",
    "    return df.Histo1D(rr.RDF.TH1DModel(variable, variable, range_[0], range_[1], range_[2]), variable, 'eventWeightLumi')\n",
    "\n",
    "# Write a histogram with a given name to the output ROOT file\n",
    "def writeHistogram(h, name):\n",
    "    h.SetName(name)\n",
    "    h.Write()\n",
    "\n",
    "################################################################################\n",
    "# Main function of the histogramming step\n",
    "#\n",
    "# The function loops over the outputs from the skimming step and produces the\n",
    "# required histograms for the final plotting.\n",
    "################################################################################\n",
    "\n",
    "def main(nSkim):\n",
    "    # Set up multi-threading capability of ROOT\n",
    "    rr.EnableImplicitMT()\n",
    " \n",
    "    # Create output file\n",
    "    tfile = ROOT.TFile(dirPlotPath + 'Trials/prova_btag{}.root'.format(nSkim), 'RECREATE')\n",
    "    variables = ranges.keys()\n",
    "    \n",
    "    fdfData = ff.DeclareVariables[nSkim](dfData, '', save=False)\n",
    "#     fdfMC = ff.DeclareVariables[nSkim](dfMC)\n",
    "    \n",
    "    # Loop through skimmed datasets and produce histograms of variables\n",
    "    hists = {}\n",
    "    for variable in variables:\n",
    "        hists[variable] = bookHistogram(fdfData, variable, ranges[variable])\n",
    "\n",
    "#     hists_mc = {}\n",
    "#     for variable in variables:\n",
    "#         hists_mc[variable] = bookHistogram(fdfMC, variable, ranges[variable])\n",
    "\n",
    "    # Write histograms to output file\n",
    "    for variable in variables:\n",
    "        writeHistogram(hists[variable], '{}_{}'.format('data', variable))\n",
    "#     for variable in variables:\n",
    "#         writeHistogram(hists_mc[variable], '{}_{}'.format('MCSig', variable))\n",
    "        \n",
    "    \n",
    "    for key, value in dfMCBkg.items():\n",
    "        fdfMCBkg = ff.DeclareVariables[nSkim](value, '', save=False)\n",
    "        \n",
    "        hists = {}\n",
    "        for variable in variables:\n",
    "            hists[variable] = bookHistogram(fdfMCBkg, variable, ranges[variable])\n",
    "        for variable in variables:\n",
    "            writeHistogram(hists[variable], '{}_{}'.format(key, variable))\n",
    "    \n",
    "    tfile.Close()\n",
    "\n",
    "if __name__ == '__main__':\n",
    "    main(1)"
   ]
  },
  {
   "cell_type": "markdown",
   "id": "5d423810",
   "metadata": {},
   "source": [
    "### Final plotting"
   ]
  },
  {
   "cell_type": "code",
   "execution_count": 11,
   "id": "c97804d9",
   "metadata": {},
   "outputs": [
    {
     "name": "stderr",
     "output_type": "stream",
     "text": [
      "Info in <TCanvas::Print>: png file ./Plots/Trials/mu_pt0_1prova_btag.png has been created\n",
      "Info in <TCanvas::Print>: png file ./Plots/Trials/mu_pt1_1prova_btag.png has been created\n",
      "Info in <TCanvas::Print>: png file ./Plots/Trials/inv_m_1prova_btag.png has been created\n"
     ]
    }
   ],
   "source": [
    "################################################################################\n",
    "# Implementation of the plotting step of the analysis\n",
    "################################################################################\n",
    "\n",
    "# Declare a human-readable label for each variable\n",
    "labels = {\n",
    "#         'Electron_pt15': 'Electron p_{T} / GeV',\n",
    "        'mu_pt0': 'Muon p_{T} / GeV',\n",
    "        'mu_pt1': 'Electron p_{T} / GeV',\n",
    "        'inv_m': 'Dimuon invariant mass / GeV'\n",
    "#         'Electron_eta': 'Electron #eta',\n",
    "#         'Muon_eta': 'Muon #eta',\n",
    "#         'Jet_pt': 'Jet p_{T} / GeV',\n",
    "#         'Jet_eta': 'Jet #eta',\n",
    "        }\n",
    "\n",
    "# Specify the color for each process\n",
    "\n",
    "# - Signal\n",
    "colors = {\n",
    "        'data': ROOT.TColor.GetColor('#BF2229'),\n",
    "        'MCSig': ROOT.TColor.GetColor('#00A88F'),\n",
    "        }\n",
    "### - MC BKG\n",
    "colorsBkg = {\n",
    "    'ST_': ROOT.TColor.GetColor(222, 90, 106),\n",
    "    'TTTT_Tune': ROOT.TColor.GetColor(248, 206, 104),\n",
    "    'TTTo2L2Nu': ROOT.TColor.GetColor(248, 206, 104),\n",
    "    'TTToHadronic': ROOT.TColor.GetColor(248, 206, 104),\n",
    "    'TTToSemiLeptonic': ROOT.TColor.GetColor(248, 206, 104),\n",
    "    'TTWJetsToLNu': ROOT.TColor.GetColor(155, 152, 204),\n",
    "    'TTZToLLNuNu': ROOT.TColor.GetColor(247, 138, 221),\n",
    "    'WGToLNuG': ROOT.TColor.GetColor(250, 202, 255),\n",
    "    'WJetsToLNu': ROOT.TColor.GetColor(250, 202, 255),\n",
    "    'WWTo2L2Nu': ROOT.TColor.GetColor(250, 202, 255),\n",
    "    'WWW': ROOT.TColor.GetColor(250, 202, 255),\n",
    "    'WWZ': ROOT.TColor.GetColor(250, 202, 255),\n",
    "    'WZG': ROOT.TColor.GetColor(250, 202, 255),\n",
    "    'WZTo1L1Nu2Q': ROOT.TColor.GetColor(250, 202, 255),\n",
    "    'WZTo2L2Q': ROOT.TColor.GetColor(250, 202, 255),\n",
    "    'WZTo3LNu': ROOT.TColor.GetColor(250, 202, 255),\n",
    "    'WZZ': ROOT.TColor.GetColor(250, 202, 255),\n",
    "    'WmWmJJ': ROOT.TColor.GetColor(250, 202, 255),\n",
    "    'WminusH': ROOT.TColor.GetColor(250, 202, 255),\n",
    "    'WpWpJJ': ROOT.TColor.GetColor(250, 202, 255),\n",
    "    'ZG': ROOT.TColor.GetColor(250, 202, 255),\n",
    "    'ZZ': ROOT.TColor.GetColor(250, 202, 255),\n",
    "    'tZq': ROOT.TColor.GetColor(100, 192, 232),\n",
    "    'DYJetsToLL_M': ROOT.TColor.GetColor(100, 192, 232),\n",
    "    'QCD': ROOT.TColor.GetColor(100, 192, 232),\n",
    "}\n",
    "\n",
    "# Retrieve a histogram from the input file based on the process and the variable name\n",
    "def getHistogram(tfile, name, variable, tag=''):\n",
    "    name = '{}_{}{}'.format(name, variable, tag)\n",
    "    h = tfile.Get(name)\n",
    "    if not h:\n",
    "        raise Exception('Failed to load histogram {}.'.format(name))\n",
    "    return h\n",
    "\n",
    "################################################################################\n",
    "\n",
    "# Main function of the plotting step\n",
    "def main(variable, nSkim):\n",
    "    tfile = ROOT.TFile(dirPlotPath + 'Trials/prova_btag{}.root'.format(nSkim), 'READ')\n",
    "\n",
    "    # Styles\n",
    "    ROOT.gStyle.SetOptStat(0)\n",
    "\n",
    "    ROOT.gStyle.SetCanvasBorderMode(0)\n",
    "    ROOT.gStyle.SetCanvasColor(ROOT.kWhite)\n",
    "    ROOT.gStyle.SetCanvasDefH(600)\n",
    "    ROOT.gStyle.SetCanvasDefW(600)\n",
    "    ROOT.gStyle.SetCanvasDefX(0)\n",
    "    ROOT.gStyle.SetCanvasDefY(0)\n",
    "\n",
    "    ROOT.gStyle.SetPadTopMargin(0.08)\n",
    "    ROOT.gStyle.SetPadBottomMargin(0.13)\n",
    "    ROOT.gStyle.SetPadLeftMargin(0.16)\n",
    "    ROOT.gStyle.SetPadRightMargin(0.05)\n",
    "\n",
    "    ROOT.gStyle.SetHistLineColor(1)\n",
    "    ROOT.gStyle.SetHistLineStyle(0)\n",
    "    ROOT.gStyle.SetHistLineWidth(1)\n",
    "    ROOT.gStyle.SetEndErrorSize(2)\n",
    "    ROOT.gStyle.SetMarkerStyle(20)\n",
    "\n",
    "    ROOT.gStyle.SetOptTitle(0)\n",
    "    ROOT.gStyle.SetTitleFont(42)\n",
    "    ROOT.gStyle.SetTitleColor(1)\n",
    "    ROOT.gStyle.SetTitleTextColor(1)\n",
    "    ROOT.gStyle.SetTitleFillColor(10)\n",
    "    ROOT.gStyle.SetTitleFontSize(0.05)\n",
    "\n",
    "    ROOT.gStyle.SetTitleColor(1, 'XYZ')\n",
    "    ROOT.gStyle.SetTitleFont(42, 'XYZ')\n",
    "    ROOT.gStyle.SetTitleSize(0.05, 'XYZ')\n",
    "    ROOT.gStyle.SetTitleXOffset(1.00)\n",
    "    ROOT.gStyle.SetTitleYOffset(1.60)\n",
    "\n",
    "    ROOT.gStyle.SetLabelColor(1, 'XYZ')\n",
    "    ROOT.gStyle.SetLabelFont(42, 'XYZ')\n",
    "    ROOT.gStyle.SetLabelOffset(0.007, 'XYZ')\n",
    "    ROOT.gStyle.SetLabelSize(0.04, 'XYZ')\n",
    "\n",
    "    ROOT.gStyle.SetAxisColor(1, 'XYZ')\n",
    "    ROOT.gStyle.SetStripDecimals(True)\n",
    "    ROOT.gStyle.SetTickLength(0.03, 'XYZ')\n",
    "    ROOT.gStyle.SetNdivisions(510, 'XYZ')\n",
    "    ROOT.gStyle.SetPadTickX(1)\n",
    "    ROOT.gStyle.SetPadTickY(1)\n",
    "\n",
    "    ROOT.gStyle.SetPaperSize(20., 20.)\n",
    "    ROOT.gStyle.SetHatchesLineWidth(5)\n",
    "    ROOT.gStyle.SetHatchesSpacing(0.05)\n",
    "\n",
    "    ROOT.TGaxis.SetExponentOffset(-0.08, 0.01, 'Y')\n",
    "    \n",
    "    legend = ROOT.TLegend(0.6, 0.6, 0.9, 0.8)\n",
    "    legend.SetNColumns(2)\n",
    "\n",
    "    # Data + MC\n",
    "    data = getHistogram(tfile, 'data', variable)\n",
    "#     MCSig = getHistogram(tfile, 'MCSig', variable)\n",
    "    \n",
    "    stack = ROOT.THStack('', '')\n",
    "    seen, count = [], 0\n",
    "    titles = ['Single top', 'top', 'ttW', 'ttZ','Diboson', 'Others']\n",
    "    for key, value in colorsBkg.items():\n",
    "        histo = getHistogram(tfile, key, variable)\n",
    "        histo.SetLineWidth(0)\n",
    "        histo.SetFillColor(value)\n",
    "        stack.Add(histo)\n",
    "        if value not in seen:\n",
    "            legend.AddEntry(histo, titles[count], 'f')\n",
    "            count += 1\n",
    "            seen.append(value)\n",
    "\n",
    "    # Draw histograms\n",
    "    data.SetMarkerStyle(20)\n",
    "    data.SetLineColor(ROOT.kBlack)\n",
    "    data.SetLineWidth(3)\n",
    "#     MCSig.SetLineColor(colors['MCSig'])\n",
    "#     MCSig.SetLineWidth(3)\n",
    "\n",
    "    c = ROOT.TCanvas('', '', 600, 600)\n",
    "    \n",
    "    name = data.GetTitle()\n",
    "    if name in labels:\n",
    "        title = labels[name]\n",
    "    else:\n",
    "        title = name\n",
    "\n",
    "#     MCSig.Draw('HIST SAME')\n",
    "    stack.Draw('hist')\n",
    "    data.Draw('E1P SAME')\n",
    "    \n",
    "    stack.GetXaxis().SetTitle(labels[variable])\n",
    "    stack.GetYaxis().SetTitle('N_{Events}')\n",
    "    stack.SetMaximum(max(stack.GetMaximum(), data.GetMaximum()) * 1.2)\n",
    "    stack.SetMinimum(1.0)\n",
    "\n",
    "    # Add legend\n",
    "#     legend.AddEntry(MCSig, 'MCSig', 'f')\n",
    "    legend.AddEntry(data, 'Data', 'lep')\n",
    "    legend.SetBorderSize(0)\n",
    "    legend.Draw()\n",
    "\n",
    "    # Add title\n",
    "    latex = ROOT.TLatex()\n",
    "    latex.SetNDC()\n",
    "    latex.SetTextSize(0.04)\n",
    "    latex.SetTextFont(42)\n",
    "    latex.DrawLatex(0.16, 0.935, '#bf{CMS FCNC}')\n",
    "\n",
    "    # Save\n",
    "#     c.SaveAs(dirPlotPath + '{}_{}'.format(variable, nSkim))\n",
    "    c.SaveAs(dirPlotPath + 'Trials/{}_{}prova_btag.png'.format(variable, nSkim))\n",
    "#     ROOT.gROOT.GetListOfCanvases().Draw()\n",
    "\n",
    "# Loop over all variable names and make a plot for each\n",
    "if __name__ == '__main__':\n",
    "    for variable in labels.keys():\n",
    "        main(variable, 1)"
   ]
  },
  {
   "cell_type": "code",
   "execution_count": 13,
   "id": "d49eaf4d",
   "metadata": {
    "scrolled": false
   },
   "outputs": [
    {
     "name": "stdout",
     "output_type": "stream",
     "text": [
      "inv_m_1prova_btag.png\n",
      "\n"
     ]
    },
    {
     "data": {
      "image/png": "[encoded data removed]",
      "text/plain": [
       "<IPython.core.display.Image object>"
      ]
     },
     "metadata": {},
     "output_type": "display_data"
    },
    {
     "name": "stdout",
     "output_type": "stream",
     "text": [
      "mu_pt0_1prova_btag.png\n",
      "\n"
     ]
    },
    {
     "data": {
      "image/png": "[encoded data removed]",
      "text/plain": [
       "<IPython.core.display.Image object>"
      ]
     },
     "metadata": {},
     "output_type": "display_data"
    },
    {
     "name": "stdout",
     "output_type": "stream",
     "text": [
      "mu_pt1_1prova_btag.png\n",
      "\n"
     ]
    },
    {
     "data": {
      "image/png": "[encoded data removed]",
      "text/plain": [
       "<IPython.core.display.Image object>"
      ]
     },
     "metadata": {},
     "output_type": "display_data"
    }
   ],
   "source": [
    "from IPython.display import Image\n",
    "for image in sorted(os.listdir(dirPlotPath + 'Trials/')):\n",
    "    if image.endswith('prova_btag.png'):\n",
    "        print(image + '\\n')\n",
    "        display(Image(filename=(dirPlotPath + 'Trials/' + image)))"
   ]
  },
  {
   "cell_type": "markdown",
   "id": "857e7664",
   "metadata": {},
   "source": [
    "***\n",
    "### Examples and trials"
   ]
  },
  {
   "cell_type": "markdown",
   "id": "7d242da1",
   "metadata": {},
   "source": [
    "### Using UPROOT"
   ]
  },
  {
   "cell_type": "code",
   "execution_count": null,
   "id": "12da7e2a",
   "metadata": {},
   "outputs": [],
   "source": [
    "def compute_m(p1, p2, phi1, phi2, eta1, eta2):\n",
    "    return np.sqrt(2*p1*p2*(np.cosh(eta1-eta2) - np.cos(phi1-phi2)))"
   ]
  },
  {
   "cell_type": "code",
   "execution_count": null,
   "id": "b548110f",
   "metadata": {},
   "outputs": [],
   "source": [
    "file = uproot.open(dirOutPath + 'DataFlat4.root')\n",
    "tree = file['Events']\n",
    "# tree.keys()\n",
    "df = tree.arrays(library='pd')"
   ]
  },
  {
   "cell_type": "code",
   "execution_count": null,
   "id": "316cb5d0",
   "metadata": {},
   "outputs": [],
   "source": [
    "df['m_inv01'] = df.apply(lambda x: compute_m(x.mu_pt1, x.mu_pt0, x.mu_phi1, x.mu_phi0, x.mu_eta1, x.mu_eta0), axis=1)"
   ]
  },
  {
   "cell_type": "code",
   "execution_count": null,
   "id": "6c7fb615",
   "metadata": {},
   "outputs": [],
   "source": [
    "df.iloc[100:130]"
   ]
  },
  {
   "cell_type": "code",
   "execution_count": null,
   "id": "fad80902",
   "metadata": {},
   "outputs": [],
   "source": [
    "z = df[df['mu_q1']*df['mu_q0'] == -1]"
   ]
  },
  {
   "cell_type": "code",
   "execution_count": null,
   "id": "315ab260",
   "metadata": {},
   "outputs": [],
   "source": [
    "import matplotlib.pyplot as plt\n",
    "\n",
    "plt.hist(df.m_inv01, bins=100)\n",
    "plt.hist(df.m_inv01, bins=100, histtype='step')\n",
    "# plt.vlines(90, 0, 300, color='red')\n",
    "plt.show()"
   ]
  },
  {
   "cell_type": "code",
   "execution_count": null,
   "id": "e5ad281c",
   "metadata": {},
   "outputs": [],
   "source": [
    "files = uproot.concatenate([(samplesBasePath + folder + '/*.root:Events') for folder in signalDirs])\n",
    "dataframe = ak.to_pandas(files)\n",
    "dataframe"
   ]
  },
  {
   "cell_type": "markdown",
   "id": "6b9a30dc",
   "metadata": {},
   "source": [
    "### Flattening trial"
   ]
  },
  {
   "cell_type": "code",
   "execution_count": null,
   "id": "ac4cc637",
   "metadata": {},
   "outputs": [],
   "source": [
    "flat = FSkim3(dfData).Define('Muon_0', 'Muon_pt15[0]')\\\n",
    "                     .Define('Muon_2', 'Muon_pt15[2]')"
   ]
  },
  {
   "cell_type": "code",
   "execution_count": null,
   "id": "d0114b01",
   "metadata": {},
   "outputs": [],
   "source": [
    "prova = flat.AsNumpy(columns=['Muon_0'])\n",
    "prova"
   ]
  },
  {
   "cell_type": "markdown",
   "id": "c29bd7b5",
   "metadata": {},
   "source": [
    "### Histogram example"
   ]
  },
  {
   "cell_type": "code",
   "execution_count": 7,
   "id": "a583efe5",
   "metadata": {},
   "outputs": [
    {
     "data": {
      "image/png": "[encoded data removed]",
      "text/plain": [
       "<IPython.core.display.Image object>"
      ]
     },
     "metadata": {},
     "output_type": "display_data"
    }
   ],
   "source": [
    "histo = ff.FSkim1(dfData).Histo1D(rr.RDF.TH1DModel('nBJ', 'nBJ', 10, 0, 10), 'nBJ')\n",
    "c = ROOT.TCanvas('Hist','',800,600);\n",
    "c.cd();\n",
    "histo.Draw();\n",
    "c.Draw();"
   ]
  },
  {
   "cell_type": "code",
   "execution_count": null,
   "id": "0ad70f73",
   "metadata": {},
   "outputs": [],
   "source": [
    "%%cpp\n",
    "// example of filtering operation MC events\n",
    "using namespace ROOT;\n",
    "\n",
    "RDataFrame d('Events', '/data/FCNC/TT_FCNC-aTtoHJ_Tleptonic_HToWWZZtautau_eta_hct-MadGraph5-pythia8_RunIISummer16/6319226B-F5F4-1B45-950E-36BE5993AA49_Skim.root');\n",
    "//auto c = d.Filter('iSkim != 1 && iSkim != 2 && iSkim != 3 && iSkim != 4').Count();\n",
    "//std::cout << *c << std::endl;\n",
    "                \n",
    "hz = d.Histo1D('nElectron');"
   ]
  },
  {
   "cell_type": "markdown",
   "id": "5631049e",
   "metadata": {},
   "source": [
    "### Processing file by file w/o `Chain`"
   ]
  },
  {
   "cell_type": "code",
   "execution_count": null,
   "id": "162d0442",
   "metadata": {},
   "outputs": [],
   "source": [
    "# def main():\n",
    "\n",
    "# Set up multi-threading capability of ROOT\n",
    "rr.EnableImplicitMT()\n",
    "\n",
    "for signalDir in signalDirs:\n",
    "    print('>>> Process directory ', signalDir, ':')\n",
    "\n",
    "#     df = rr.RDataFrame('Events' samplesBasePath + signalDir + '/*.root')\n",
    "#     print('Number of events:', df.Count())\n",
    "\n",
    "    df2 = MinimalSelection(df)\n",
    "    \n",
    "    df2.Report().Snapshot('Events', dirOutPath + signalDir + 'Fltr.root', finalVariables);"
   ]
  },
  {
   "cell_type": "markdown",
   "id": "7897b8ba",
   "metadata": {},
   "source": [
    "***\n",
    "Loading of `.root` files through flattening with `uproot`."
   ]
  },
  {
   "cell_type": "code",
   "execution_count": null,
   "id": "d1a2d958",
   "metadata": {},
   "outputs": [],
   "source": [
    "uproot.lazy([basepath+'SingleMuon_Run2017B-Nano1June2019-v1/*.root:Events'], filter_name='nMuon')"
   ]
  },
  {
   "cell_type": "code",
   "execution_count": null,
   "id": "1eb01b2e",
   "metadata": {},
   "outputs": [],
   "source": [
    "uproot.concatenate([basepath + '{}/*.root:events'.format(folder for folder in return_dir('SingleMuon'))], filter_name='nMuon')"
   ]
  },
  {
   "cell_type": "markdown",
   "id": "7a4fbd34",
   "metadata": {},
   "source": [
    "#### To clarify:\n",
    "- massa invariante: problema a 15GeV per iSkim3\n",
    "- errore sul MC\n",
    "\n",
    "#### To do:\n",
    "- MC raggruppati\n",
    "- criteri discriminazione e/mu (e -> 11, mu -> 13)\n",
    "- fare un po' di plot per iSkim2 (alzare taglio pt muon o isolamento)\n",
    "- ricostruire info jet\n",
    "- tagliare più duro su iSkim2\n",
    "\n",
    "\n",
    "- m_eff\n",
    "\n",
    "#### Prossimamente:\n",
    "- BDT: discriminazione segnale/bkg\n",
    "- Esame MAPD"
   ]
  },
  {
   "cell_type": "code",
   "execution_count": null,
   "id": "1a1bd139",
   "metadata": {},
   "outputs": [],
   "source": []
  }
 ],
 "metadata": {
  "kernelspec": {
   "display_name": "Python 3",
   "language": "python",
   "name": "python3"
  },
  "language_info": {
   "codemirror_mode": {
    "name": "ipython",
    "version": 3
   },
   "file_extension": ".py",
   "mimetype": "text/x-python",
   "name": "python",
   "nbconvert_exporter": "python",
   "pygments_lexer": "ipython3",
   "version": "3.9.2"
  }
 },
 "nbformat": 4,
 "nbformat_minor": 5
}
